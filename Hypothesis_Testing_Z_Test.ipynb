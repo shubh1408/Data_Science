{
 "cells": [
  {
   "cell_type": "markdown",
   "id": "395a2929-4c9b-4351-9c29-18ace9c97a8a",
   "metadata": {},
   "source": [
    "# Z test"
   ]
  },
  {
   "cell_type": "code",
   "execution_count": 4,
   "id": "f3c47283-7495-4cbc-9ec3-0d6f8be4902a",
   "metadata": {},
   "outputs": [],
   "source": [
    "import scipy.stats as st\n",
    "import numpy as np"
   ]
  },
  {
   "cell_type": "code",
   "execution_count": 3,
   "id": "9bee19cd-251f-41b6-a22c-9e4e4a3767a4",
   "metadata": {},
   "outputs": [],
   "source": [
    "#Ques1: A teacher claims that the mean score of students in his class is greater than 82 with a standard deviation of 20.\n",
    "#      If a sample of 81 students was selected with a mean score of 90"
   ]
  },
  {
   "cell_type": "code",
   "execution_count": 6,
   "id": "891fcec6-a2ac-48c0-b87e-13bdb830ef81",
   "metadata": {},
   "outputs": [],
   "source": [
    "s_x=90\n",
    "p_u=82\n",
    "p_std=20\n",
    "n=81\n",
    "ap=0.05"
   ]
  },
  {
   "cell_type": "code",
   "execution_count": 7,
   "id": "e24b1fb1-3234-4240-a94e-3b3494c27f19",
   "metadata": {},
   "outputs": [
    {
     "data": {
      "text/plain": [
       "np.float64(3.5999999999999996)"
      ]
     },
     "execution_count": 7,
     "metadata": {},
     "output_type": "execute_result"
    }
   ],
   "source": [
    "z_cal=(s_x - p_u)/(p_std/np.sqrt(n))\n",
    "z_cal"
   ]
  },
  {
   "cell_type": "code",
   "execution_count": 8,
   "id": "3c4012ff-2a6c-484d-9225-b3ee815c337b",
   "metadata": {},
   "outputs": [
    {
     "data": {
      "text/plain": [
       "np.float64(1.6448536269514722)"
      ]
     },
     "execution_count": 8,
     "metadata": {},
     "output_type": "execute_result"
    }
   ],
   "source": [
    "z_table=st.norm.ppf(1-ap)\n",
    "z_table"
   ]
  },
  {
   "cell_type": "code",
   "execution_count": 9,
   "id": "c28915df-831c-4352-9762-555805fa985a",
   "metadata": {},
   "outputs": [
    {
     "name": "stdout",
     "output_type": "stream",
     "text": [
      "Ha is right\n"
     ]
    }
   ],
   "source": [
    "if z_table<z_cal:\n",
    "    print(\"Ha is right\")\n",
    "else:\n",
    "    print(\"Ho is right\")"
   ]
  },
  {
   "cell_type": "code",
   "execution_count": null,
   "id": "2a97cef4-4934-4033-b224-8182272d8197",
   "metadata": {},
   "outputs": [],
   "source": [
    "#Ques2: Scenario: Imagine you work for an e-commerce company, and your team is responsible for analyzing customer purchase data. You want to determine whether a new website design has led to a significant increase in the average purchase amount compared to the old design.\n",
    "#Data: You have collected data from a random sample of 30 customers who made purchases on the old website design and 30 customers who made purchases on the new website design You have the sample means, sample standard deviations, and sample sizes for both groups."
   ]
  },
  {
   "cell_type": "code",
   "execution_count": null,
   "id": "fa4f8563-b04c-4af0-8ceb-805a2b6c049c",
   "metadata": {},
   "outputs": [],
   "source": [
    "# Old_design_data = [45.2, 42.8, 38.9, 43.5, 41.8, 44.6, 48.5, 42.7, 39.8, 41.4, 44.3, 39.7, 42.1, 48.6, 43.8, 42.2, 41.5, 39.6, 44.8, 43.1, 38.7,38.7, 43.9, 42.8, 41.9, 42.8, 43.7, 41.3, 48.9, 42.5, 41.6] \n",
    "# New_design_data = [48.5, 49.1, 58.2, 47.8, 48.7, 49.9, 48.8, 58.5, 49.8, 49.6, 48.2, 48.9, 49.7, 58.3, 49.4, 58.1, 48.6, 48.3, 49.8, 58.8, 48.4,48.4, 49.3, 49.5, 48.8, 58.6, 58.4, 48.1, 49.2, 50.7, 50.8]"
   ]
  },
  {
   "cell_type": "code",
   "execution_count": 10,
   "id": "5c0304d3-04d3-43a3-9c46-8bb5236aa40e",
   "metadata": {},
   "outputs": [],
   "source": [
    "Old_design_data = np.array([45.2, 42.8, 38.9, 43.5, 41.8, 44.6, 48.5, 42.7, 39.8, 41.4, 44.3, 39.7, 42.1, 48.6, 43.8, 42.2, 41.5, 39.6, 44.8, 43.1, 38.7,38.7, 43.9, 42.8, 41.9, 42.8, 43.7, 41.3, 48.9, 42.5, 41.6]) \n",
    "New_design_data = np.array([48.5, 49.1, 58.2, 47.8, 48.7, 49.9, 48.8, 58.5, 49.8, 49.6, 48.2, 48.9, 49.7, 58.3, 49.4, 58.1, 48.6, 48.3, 49.8, 58.8, 48.4,48.4, 49.3, 49.5, 48.8, 58.6, 58.4, 48.1, 49.2, 50.7, 50.8])"
   ]
  },
  {
   "cell_type": "code",
   "execution_count": 12,
   "id": "88e569da-a919-4e12-b2b2-741d02649869",
   "metadata": {},
   "outputs": [],
   "source": [
    "pop_std=2.5\n",
    "n_sp=len(New_design_data)\n",
    "apl=0.05"
   ]
  },
  {
   "cell_type": "code",
   "execution_count": 11,
   "id": "a97eb9d5-96b0-4b41-8bb3-d25bd84ba023",
   "metadata": {},
   "outputs": [],
   "source": [
    "mean_new=np.mean(New_design_data)\n",
    "mean_old=np.mean(Old_design_data)"
   ]
  },
  {
   "cell_type": "code",
   "execution_count": 13,
   "id": "26871892-bc2b-4fff-8b44-12d88975b5d5",
   "metadata": {},
   "outputs": [
    {
     "data": {
      "text/plain": [
       "np.float64(18.786714592000642)"
      ]
     },
     "execution_count": 13,
     "metadata": {},
     "output_type": "execute_result"
    }
   ],
   "source": [
    "z_cal=(mean_new-mean_old)/(pop_std/np.sqrt(n_sp))\n",
    "z_cal"
   ]
  },
  {
   "cell_type": "code",
   "execution_count": null,
   "id": "a4a86457-55cd-4546-90b1-6e5df605f752",
   "metadata": {},
   "outputs": [],
   "source": []
  }
 ],
 "metadata": {
  "kernelspec": {
   "display_name": "Python 3 (ipykernel)",
   "language": "python",
   "name": "python3"
  },
  "language_info": {
   "codemirror_mode": {
    "name": "ipython",
    "version": 3
   },
   "file_extension": ".py",
   "mimetype": "text/x-python",
   "name": "python",
   "nbconvert_exporter": "python",
   "pygments_lexer": "ipython3",
   "version": "3.12.5"
  }
 },
 "nbformat": 4,
 "nbformat_minor": 5
}
