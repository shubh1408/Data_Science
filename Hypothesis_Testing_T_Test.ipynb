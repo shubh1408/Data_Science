{
 "cells": [
  {
   "cell_type": "markdown",
   "id": "d7c17a70-af2d-4b89-8775-c4831fb302d3",
   "metadata": {},
   "source": [
    "# T Test"
   ]
  },
  {
   "cell_type": "code",
   "execution_count": 7,
   "id": "c6061d3c-578f-40c4-a83c-3284c53e694d",
   "metadata": {},
   "outputs": [],
   "source": [
    "import scipy.stats as st\n",
    "import numpy as np"
   ]
  },
  {
   "cell_type": "code",
   "execution_count": 2,
   "id": "fad8bdff-08f1-470a-a651-a397c241344d",
   "metadata": {},
   "outputs": [],
   "source": [
    "#Example1: A manufacturer claims that the average weight of a bag of potato chips is_150 grams. A sample of 25 bags is taken, and the average weight is found to be 148 grams,\n",
    "#         with a standard deviation of 5 grams. Test the manufacturer's claim using a one-tailed t-test with a significance level of 0.05."
   ]
  },
  {
   "cell_type": "code",
   "execution_count": 3,
   "id": "8e15f891-19ac-4efd-8b33-e3a98b1dd53c",
   "metadata": {},
   "outputs": [
    {
     "name": "stdout",
     "output_type": "stream",
     "text": [
      "-1.7108820799094282\n"
     ]
    }
   ],
   "source": [
    "t_table=st.t.ppf(0.05,24)    #t_table=st.t.ppf(alpha,Degree Of Freedom)\n",
    "print(t_table)"
   ]
  },
  {
   "cell_type": "code",
   "execution_count": 4,
   "id": "05986b99-6e7a-4b4d-a869-6d34ea844a6a",
   "metadata": {},
   "outputs": [],
   "source": [
    "#Example 2:A company wants to test whether there is a difference in productivity between two teams. They randomly select 20 employees from each team and record their productivity scores. \n",
    "#          The mean productivity score for Team A is 80 with a standard deviation of 5,while the mean productivity score for Team B is 75 with a star deviation of 6.\n",
    "#          Test at a 5% level of significance whether there is a differe productivity between the two teams."
   ]
  },
  {
   "cell_type": "code",
   "execution_count": 5,
   "id": "6c08dfc4-9c4d-4eb5-a587-b1fecc1d41d0",
   "metadata": {},
   "outputs": [
    {
     "data": {
      "text/plain": [
       "np.float64(2.024394163911969)"
      ]
     },
     "execution_count": 5,
     "metadata": {},
     "output_type": "execute_result"
    }
   ],
   "source": [
    "t_table1=st.t.ppf(1-0.025,38)\n",
    "t_table1"
   ]
  },
  {
   "cell_type": "code",
   "execution_count": 8,
   "id": "28ade314-ae73-498e-9244-25a540b28fc3",
   "metadata": {},
   "outputs": [
    {
     "data": {
      "text/plain": [
       "np.float64(3.1311214554257476)"
      ]
     },
     "execution_count": 8,
     "metadata": {},
     "output_type": "execute_result"
    }
   ],
   "source": [
    "t_cal=(80-75)/(np.sqrt((25/20)+(26/20)))\n",
    "t_cal"
   ]
  },
  {
   "cell_type": "code",
   "execution_count": null,
   "id": "1958878b-8e0a-4280-ac1f-b25434a14c03",
   "metadata": {},
   "outputs": [],
   "source": []
  }
 ],
 "metadata": {
  "kernelspec": {
   "display_name": "Python 3 (ipykernel)",
   "language": "python",
   "name": "python3"
  },
  "language_info": {
   "codemirror_mode": {
    "name": "ipython",
    "version": 3
   },
   "file_extension": ".py",
   "mimetype": "text/x-python",
   "name": "python",
   "nbconvert_exporter": "python",
   "pygments_lexer": "ipython3",
   "version": "3.12.5"
  }
 },
 "nbformat": 4,
 "nbformat_minor": 5
}
