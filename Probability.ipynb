{
 "cells": [
  {
   "cell_type": "markdown",
   "id": "b5d38e30-3bdc-44f3-b363-acb5b867b586",
   "metadata": {},
   "source": [
    "# Probability Distribution Functions"
   ]
  },
  {
   "cell_type": "code",
   "execution_count": null,
   "id": "298da30f-fe2f-4b07-9ca8-13f691977fcc",
   "metadata": {},
   "outputs": [],
   "source": []
  }
 ],
 "metadata": {
  "kernelspec": {
   "display_name": "Python 3 (ipykernel)",
   "language": "python",
   "name": "python3"
  },
  "language_info": {
   "codemirror_mode": {
    "name": "ipython",
    "version": 3
   },
   "file_extension": ".py",
   "mimetype": "text/x-python",
   "name": "python",
   "nbconvert_exporter": "python",
   "pygments_lexer": "ipython3",
   "version": "3.12.5"
  }
 },
 "nbformat": 4,
 "nbformat_minor": 5
}
